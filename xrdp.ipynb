{
  "nbformat": 4,
  "nbformat_minor": 0,
  "metadata": {
    "colab": {
      "name": "xrdp.ipynb",
      "private_outputs": true,
      "provenance": [],
      "collapsed_sections": []
    },
    "kernelspec": {
      "name": "python3",
      "display_name": "Python 3"
    },
    "language_info": {
      "name": "python"
    }
  },
  "cells": [
    {
      "cell_type": "code",
      "metadata": {
        "id": "t4yNp3KmLtZ6",
        "cellView": "form"
      },
      "source": [
        "#@title **Create User**\n",
        "import os\n",
        "username = \"Username\" #@param {type:\"string\"}\n",
        "password = \"Admin\" #@param {type:\"string\"}\n",
        "\n",
        "print(\"Creating User and Setting it up\")\n",
        "\n",
        "# Creat user\n",
        "os.system(f\"useradd -m {username}\")\n",
        "\n",
        "# Add user to sudo group\n",
        "os.system(f\"adduser {username} sudo\")\n",
        "    \n",
        "# Set password user to 'root'\n",
        "os.system(f\"echo '{username}:{password}' | sudo chpasswd\")\n",
        "\n",
        "# Change default shell from sh to bash\n",
        "os.system(\"sed -i 's/\\/bin\\/sh/\\/bin\\/bash/g' /etc/passwd\")\n",
        "\n",
        "print(\"User Created and Configured\")"
      ],
      "execution_count": null,
      "outputs": []
    },
    {
      "cell_type": "code",
      "metadata": {
        "cellView": "form",
        "id": "B9qlI8Fr4nr1"
      },
      "source": [
        "#@title **Google Drive Mount**\n",
        "\n",
        "from google.colab import drive\n",
        "drive.mount('/content/drive')"
      ],
      "execution_count": null,
      "outputs": []
    },
    {
      "cell_type": "code",
      "metadata": {
        "id": "vk2qtOTGIFsQ",
        "cellView": "form"
      },
      "source": [
        "#@title **Start RDP**\n",
        "#@markdown Connect RDP<br><br>\n",
        "! wget -O xfce4.sh https://raw.githubusercontent.com/wyuliyanto/RDP-test/main/setup-rdp-google-colab.sh > /dev/null 2>&1\n",
        "! chmod +x xfce4.sh\n",
        "! ./xfce4.sh"
      ],
      "execution_count": null,
      "outputs": []
    },
    {
      "cell_type": "code",
      "metadata": {
        "id": "vk2qtOTGIFsQ",
        "cellView": "form"
      },
      "source": [
        "#@title **Start Kali-Linux RDP**\n",
        "#@markdown Connect RDP<br><br>\n",
        "! wget -O kali.sh https://raw.githubusercontent.com/wyuliyanto/RDP-test/main/xrdp-file/kali.sh > /dev/null 2>&1\n",
        "! chmod +x kali.sh\n",
        "! ./kali.sh"
      ],
      "execution_count": null,
      "outputs": []
    }
  ]
}
